{
 "cells": [
  {
   "metadata": {},
   "cell_type": "code",
   "source": [
    "import os\n",
    "from pyspark.sql import SparkSession\n",
    "from pyspark.sql.types import StructType, StructField, StringType, ArrayType\n",
    "from pyspark.sql.functions import col, array, explode_outer, from_json, when, collect_set, array_join"
   ],
   "id": "34fced1bfed5f324",
   "outputs": [],
   "execution_count": null
  },
  {
   "metadata": {},
   "cell_type": "markdown",
   "source": "### Initialize Spark Session",
   "id": "f78ac2e58d1479dd"
  },
  {
   "metadata": {},
   "cell_type": "code",
   "source": [
    "# Initialize Spark session\n",
    "spark = SparkSession.builder.appName(\"BigDataAnalyticsPipeline\").getOrCreate()"
   ],
   "id": "bd41d1170e108c99",
   "outputs": [],
   "execution_count": null
  },
  {
   "metadata": {},
   "cell_type": "markdown",
   "source": "## Large Data Ingestion",
   "id": "8334e78fcf4913b3"
  },
  {
   "metadata": {
    "collapsed": true
   },
   "cell_type": "code",
   "source": [
    "# Define the base directory for the project\n",
    "base_dir = \"./data\"\n",
    "\n",
    "# Gather paths to all text files that are actually JSON\n",
    "file_paths = []\n",
    "for root, dirs, files in os.walk(base_dir):\n",
    "\n",
    "    for file in files:\n",
    "        # Add only text files (assuming they don’t have a .json extension)\n",
    "        if not file.endswith('.json'):\n",
    "            file_paths.append(os.path.join(root, file))\n",
    "\n",
    "# Load all JSON text files into a single Spark DataFrame\n",
    "# Using the option `multiLine=True` if each file contains multiple JSON objects across lines\n",
    "df = spark.read.option(\"multiLine\", True).json(path=file_paths)\n",
    "\n",
    "# Display schema and sample records to verify\n",
    "df.printSchema()\n",
    "df.show(5, truncate=True)"
   ],
   "id": "initial_id",
   "outputs": [],
   "execution_count": null
  },
  {
   "metadata": {},
   "cell_type": "markdown",
   "source": "## Data Transformation",
   "id": "b0c7e6ab538095be"
  },
  {
   "metadata": {},
   "cell_type": "markdown",
   "source": "#### Extracting and Flattening Nested Affiliation Fields ",
   "id": "a2761688f228c04d"
  },
  {
   "metadata": {},
   "cell_type": "code",
   "source": [
    "# Define the affiliation schema\n",
    "affiliation_schema = StructType([\n",
    "    StructField(\"affiliation-city\", StringType(), True),\n",
    "    StructField(\"affilname\", StringType(), True),\n",
    "    StructField(\"affiliation-country\", StringType(), True),\n",
    "])\n",
    "\n",
    "affiliation_array_schema = ArrayType(affiliation_schema)\n",
    "\n",
    "# Extract title, abstract, publication date, and affiliation\n",
    "df = df.withColumn(\n",
    "    \"affiliation_string\",\n",
    "    col(\"abstracts-retrieval-response.affiliation\").cast(\"string\")\n",
    ")\n",
    "\n",
    "df = df.withColumn(\n",
    "    \"affiliation_parsed_array\",\n",
    "    from_json(col(\"affiliation_string\"), affiliation_array_schema)\n",
    ").withColumn(\n",
    "    \"affiliation_parsed_single\",\n",
    "    from_json(col(\"affiliation_string\"), affiliation_schema)\n",
    ")\n",
    "\n",
    "df = df.withColumn(\n",
    "    \"affiliation_array\",\n",
    "    when(col(\"affiliation_parsed_array\").isNotNull(), col(\"affiliation_parsed_array\"))\n",
    "    .when(col(\"affiliation_parsed_single\").isNotNull(), array(col(\"affiliation_parsed_single\")))\n",
    "    .otherwise(array())\n",
    ").drop(\"affiliation_string\", \"affiliation_parsed_array\", \"affiliation_parsed_single\")"
   ],
   "id": "c1de288dc5abb2cf",
   "outputs": [],
   "execution_count": null
  },
  {
   "metadata": {},
   "cell_type": "markdown",
   "source": "#### Extracting and Flattening Nested Mainterm Fields",
   "id": "66dccca3ad8ac71b"
  },
  {
   "metadata": {},
   "cell_type": "code",
   "source": [
    "mainterm_schema = StructType([\n",
    "    StructField(\"$\", StringType(), True),\n",
    "])\n",
    "\n",
    "mainterm_array_schema = ArrayType(mainterm_schema)\n",
    "\n",
    "df = df.withColumn(\n",
    "    \"mainterm_string\",\n",
    "    col(\"abstracts-retrieval-response.idxterms.mainterm\").cast(\"string\")\n",
    ")\n",
    "\n",
    "df = df.withColumn(\n",
    "    \"mainterm_parsed_array\",\n",
    "    from_json(col(\"mainterm_string\"), mainterm_array_schema)\n",
    ").withColumn(\n",
    "    \"mainterm_parsed_single\",\n",
    "    from_json(col(\"mainterm_string\"), mainterm_schema)\n",
    ")\n",
    "\n",
    "df = df.withColumn(\n",
    "    \"mainterm_array\",\n",
    "    when(col(\"mainterm_parsed_array\").isNotNull(), col(\"mainterm_parsed_array\"))\n",
    "    .when(col(\"mainterm_parsed_single\").isNotNull(), array(col(\"mainterm_parsed_single\")))\n",
    "    .otherwise(array())\n",
    ").drop(\"mainterm_string\", \"mainterm_parsed_array\", \"mainterm_parsed_single\")"
   ],
   "id": "85b4105e9db9d643",
   "outputs": [],
   "execution_count": null
  },
  {
   "metadata": {},
   "cell_type": "markdown",
   "source": "### Combining and Aggregating Data",
   "id": "860088941b7fe951"
  },
  {
   "metadata": {
    "ExecuteTime": {
     "end_time": "2024-11-13T19:43:45.299389Z",
     "start_time": "2024-11-13T19:43:13.760203Z"
    }
   },
   "cell_type": "code",
   "source": [
    "# name variable to avoid confusion\n",
    "# explode_df  = df.select(\n",
    "#     col(\"abstracts-retrieval-response.coredata.dc:identifier\").alias(\"document_id\"),\n",
    "#     explode_outer(\"affiliation_array\").alias(\"affiliation\"),\n",
    "#     explode_outer(\"mainterm_array\").alias(\"mainterm\")\n",
    "# ).select(\n",
    "#     \"document_id\",\n",
    "#     col(\"affiliation.affiliation-country\").alias(\"affiliation_country\"),\n",
    "#     col(\"affiliation.affiliation-city\").alias(\"affiliation_city\"),\n",
    "#     col(\"affiliation.affilname\").alias(\"affiliation_name\"),\n",
    "#     col(\"mainterm.$\").alias(\"keyword\")\n",
    "# )\n",
    "# \n",
    "# # Aggregate countries and cities per document_id\n",
    "# join_df = explode_df.groupBy(\"document_id\").agg(\n",
    "#     array_join(collect_set(\"affiliation_country\"), \";\").alias(\"affiliation_countries\"),\n",
    "#     array_join(collect_set(\"affiliation_city\"), \";\").alias(\"affiliation_cities\"),\n",
    "#     array_join(collect_set(\"affiliation_name\"), \";\").alias(\"affiliation_names\"),\n",
    "#     array_join(collect_set(\"keyword\"), \";\").alias(\"keywords\")\n",
    "# )\n",
    "# \n",
    "# selected_df = df.select(\n",
    "#     col(\"abstracts-retrieval-response.coredata.dc:identifier\").alias(\"document_id\"),\n",
    "#     col(\"abstracts-retrieval-response.coredata.dc:title\").alias(\"title\"),\n",
    "#     col(\"abstracts-retrieval-response.coredata.dc:description\").alias(\"description\"),\n",
    "#     col(\"abstracts-retrieval-response.coredata.prism:coverDate\").alias(\"publication_date\"),\n",
    "#     col(\"abstracts-retrieval-response.coredata.dc:publisher\").alias(\"publisher\"),\n",
    "# )\n",
    "# \n",
    "# final_df = join_df.join(\n",
    "#     selected_df,\n",
    "#     on=\"document_id\",\n",
    "#     how=\"left\"\n",
    "# )\n",
    "\n",
    "mainterm_df = df.withColumn(\"mainterm\", explode_outer(\"mainterm_array\")).select(\n",
    "    col(\"abstracts-retrieval-response.coredata.dc:identifier\").alias(\"document_id\"),\n",
    "    col(\"mainterm.$\").alias(\"keyword\"),\n",
    ")\n",
    "\n",
    "affiliation_df = df.withColumn(\"affiliation\", explode_outer(\"affiliation_array\")).select(\n",
    "    col(\"abstracts-retrieval-response.coredata.dc:identifier\").alias(\"document_id\"),\n",
    "    col(\"affiliation.affiliation-country\").alias(\"affiliation_country\"),\n",
    "    col(\"affiliation.affiliation-city\").alias(\"affiliation_city\"),\n",
    "    col(\"affiliation.affilname\").alias(\"affiliation_name\"),\n",
    ")\n",
    "\n",
    "exploded_df = mainterm_df.join(\n",
    "    affiliation_df,\n",
    "    on=\"document_id\",\n",
    "    how=\"left\"\n",
    ")\n",
    "\n",
    "final_df = exploded_df.join(\n",
    "    df.select(\n",
    "        col(\"abstracts-retrieval-response.coredata.dc:identifier\").alias(\"document_id\"),\n",
    "        col(\"abstracts-retrieval-response.coredata.dc:title\").alias(\"title\"),\n",
    "        col(\"abstracts-retrieval-response.coredata.dc:description\").alias(\"description\"),\n",
    "        col(\"abstracts-retrieval-response.coredata.prism:coverDate\").alias(\"publication_date\"),\n",
    "        col(\"abstracts-retrieval-response.coredata.dc:publisher\").alias(\"publisher\")\n",
    "    ),\n",
    "    on=\"document_id\",\n",
    "    how=\"left\"\n",
    ")\n",
    "\n",
    "final_df = final_df.select(\n",
    "    \"document_id\",\n",
    "    \"title\",\n",
    "    \"description\",\n",
    "    \"publication_date\",\n",
    "    \"publisher\",\n",
    "    \"keyword\",\n",
    "    \"affiliation_country\",\n",
    "    \"affiliation_city\",\n",
    "    \"affiliation_name\",\n",
    ")\n",
    "# Show the result\n",
    "final_df.show(10, truncate=False)"
   ],
   "id": "96a35aa717aa883b",
   "outputs": [
    {
     "name": "stderr",
     "output_type": "stream",
     "text": [
      "[Stage 58:===================================================>  (640 + 8) / 667]\r"
     ]
    },
    {
     "name": "stdout",
     "output_type": "stream",
     "text": [
      "+---------------------+-------------------------------------------------------------------------------------------------------------------------------------------------------------------+-------------------------------------------------------------------------------------------------------------------------------------------------------------------------------------------------------------------------------------------------------------------------------------------------------------------------------------------------------------------------------------------------------------------------------------------------------------------------------------------------------------------------------------------------------------------------------------------------------------------------------------------------------------------------------------------------------------------------------------------------------------------------------------------------------------------------------------------------------------------------------------------------------------------------------------------------------------------------------------------------------------------------------------------------------------------------------------------------------------------------------------------------------------------------------------------------------------------------------------------------------------------------------------------------------------------------------------------------------------------------------------------------------------------------------------------------------------------------------------------------------------------------------------------------------------------------------------------------------------------------------------------------------------------------------------------------+----------------+--------------------+--------------------------+-------------------+------------------+-------------------------------------------------+\n",
      "|document_id          |title                                                                                                                                                              |description                                                                                                                                                                                                                                                                                                                                                                                                                                                                                                                                                                                                                                                                                                                                                                                                                                                                                                                                                                                                                                                                                                                                                                                                                                                                                                                                                                                                                                                                                                                                                                                                                                                                                      |publication_date|publisher           |keyword                   |affiliation_country|affiliation_city  |affiliation_name                                 |\n",
      "+---------------------+-------------------------------------------------------------------------------------------------------------------------------------------------------------------+-------------------------------------------------------------------------------------------------------------------------------------------------------------------------------------------------------------------------------------------------------------------------------------------------------------------------------------------------------------------------------------------------------------------------------------------------------------------------------------------------------------------------------------------------------------------------------------------------------------------------------------------------------------------------------------------------------------------------------------------------------------------------------------------------------------------------------------------------------------------------------------------------------------------------------------------------------------------------------------------------------------------------------------------------------------------------------------------------------------------------------------------------------------------------------------------------------------------------------------------------------------------------------------------------------------------------------------------------------------------------------------------------------------------------------------------------------------------------------------------------------------------------------------------------------------------------------------------------------------------------------------------------------------------------------------------------+----------------+--------------------+--------------------------+-------------------+------------------+-------------------------------------------------+\n",
      "|SCOPUS_ID:85030852188|Temporal and spatial distributions of precursory seismicity rate changes in the Thailand-Laos-Myanmar border region: implication for upcoming hazardous earthquakes|To study the prospective areas of upcoming strong-to-major earthquakes, i.e., Mw ≥ 6.0, a catalog of seismicity in the vicinity of the Thailand-Laos-Myanmar border region was generated and then investigated statistically. Based on the successful investigations of previous works, the seismicity rate change (Z value) technique was applied in this study. According to the completeness earthquake dataset, eight available case studies of strong-to-major earthquakes were investigated retrospectively. After iterative tests of the characteristic parameters concerning the number of earthquakes (N) and time window (Tw), the values of 50 and 1.2 years, respectively, were found to reveal an anomalous high Z-value peak (seismic quiescence) prior to the occurrence of six out of the eight major earthquake events studied. In addition, the location of the Z-value anomalies conformed fairly well to the epicenters of those earthquakes. Based on the investigation of correlation coefficient and the stochastic test of the Z values, the parameters used here (N = 50 events and Tw = 1.2 years) were suitable to determine the precursory Z value and not random phenomena. The Z values of this study and the frequency-magnitude distribution b values of a previous work both highlighted the same prospective areas that might generate an upcoming major earthquake: (i) some areas in the northern part of Laos and (ii) the eastern part of Myanmar.                                                                                                                                                                                                         |2018-01-01      |Springer Netherlands|NULL                      |Thailand           |Bangkok           |Chulalongkorn University                         |\n",
      "|SCOPUS_ID:85031411362|Contributions of gaming simulation in building community-based disaster risk management applying Japanese case to flood prone communities in Thailand upstream area|Thailand has a long history of flood disasters. The Great Flood in 2011, for example, affected many parts of the country, including Bangkok. This obviously revealed the limitations of disaster management by the government. Movements in responding and helping communities to manage against flood disasters are still ambiguous and rudimentary; while local communities still rely on external support. This study aims to strengthen community-based disaster risk management (CBDRM) by using gaming simulation (GS) as a tool. This is participatory action research (PAR) using empirical data from applying GS, participatory observation and interviews in selected communities. Three flood prone communities in an upstream province in Thailand that represent successful case, on-going case and non-active case in building CBDRM used as case studies. The GS named ‘Community Cooperation Game’ (CCG) was designed as a prototype in a Japanese case study on flood management in Sonobe District, Kyoto Prefecture. The CCG was applied in the three flood prone communities in Thailand; that enabled these three communities to simulate flood situations and make mutual decisions on how to manage flood scenarios by following roles, rules and scenarios of the game. The main findings of this study are 1) a list of GS contributions in achieving CBDRM process indicators; and 2) evidence that suggest that GS can be used as a valuable tool to build CBDRM process by promoting social resilience through CCG in local communities in Thailand. The research concludes that the prototype of CCG on building CBDRM can be generalized in Thai local communities.|2018-03-01      |Elsevier Ltd        |NULL                      |Japan              |Ibaraki           |Ritsumeikan University Osaka Ibaraki Campus      |\n",
      "|SCOPUS_ID:85031411362|Contributions of gaming simulation in building community-based disaster risk management applying Japanese case to flood prone communities in Thailand upstream area|Thailand has a long history of flood disasters. The Great Flood in 2011, for example, affected many parts of the country, including Bangkok. This obviously revealed the limitations of disaster management by the government. Movements in responding and helping communities to manage against flood disasters are still ambiguous and rudimentary; while local communities still rely on external support. This study aims to strengthen community-based disaster risk management (CBDRM) by using gaming simulation (GS) as a tool. This is participatory action research (PAR) using empirical data from applying GS, participatory observation and interviews in selected communities. Three flood prone communities in an upstream province in Thailand that represent successful case, on-going case and non-active case in building CBDRM used as case studies. The GS named ‘Community Cooperation Game’ (CCG) was designed as a prototype in a Japanese case study on flood management in Sonobe District, Kyoto Prefecture. The CCG was applied in the three flood prone communities in Thailand; that enabled these three communities to simulate flood situations and make mutual decisions on how to manage flood scenarios by following roles, rules and scenarios of the game. The main findings of this study are 1) a list of GS contributions in achieving CBDRM process indicators; and 2) evidence that suggest that GS can be used as a valuable tool to build CBDRM process by promoting social resilience through CCG in local communities in Thailand. The research concludes that the prototype of CCG on building CBDRM can be generalized in Thai local communities.|2018-03-01      |Elsevier Ltd        |NULL                      |Thailand           |Bangkok           |Chulalongkorn University                         |\n",
      "|SCOPUS_ID:85031924352|Flowsheet-based model and exergy analysis of solid oxide electrolysis cells for clean hydrogen production                                                          |A solid oxide electrolysis cell (SOEC) is an electrochemical technology used for hydrogen production via a steam electrolysis reaction. Because the existing SOEC models are complicated, the aim of this study is to develop a user-friendly SOEC model in a flowsheet simulator (Aspen Plus). The developed model is used to perform a parametric analysis to investigate the effects of key process parameters, i.e., operating temperature, current density, steam concentration, sweep gas type and number of cells, on the SOEC performance. The simulation results show that the voltage and the overall overpotential decrease as the cell temperature increases, whereas the opposite trends are observed when the current density increases. From the energy and exergy analyses, the total energy demand slightly increases with cell temperature, whereas the electrical energy demand decreases. Based on an operating temperature of 1273 K when the SOEC uses oxygen as the sweep gas, the highest energy and exergetic efficiencies of 78.45% and 92.20% are achieved at a current density of 2500 A m−2 and at a steam concentration of 90% in a 500-cell stack.                                                                                                                                                                                                                                                                                                                                                                                                                                                                                                                |2018-01-01      |Elsevier Ltd        |Electrical energy demand  |Thailand           |Bangkok           |Chulalongkorn University                         |\n",
      "|SCOPUS_ID:85031924352|Flowsheet-based model and exergy analysis of solid oxide electrolysis cells for clean hydrogen production                                                          |A solid oxide electrolysis cell (SOEC) is an electrochemical technology used for hydrogen production via a steam electrolysis reaction. Because the existing SOEC models are complicated, the aim of this study is to develop a user-friendly SOEC model in a flowsheet simulator (Aspen Plus). The developed model is used to perform a parametric analysis to investigate the effects of key process parameters, i.e., operating temperature, current density, steam concentration, sweep gas type and number of cells, on the SOEC performance. The simulation results show that the voltage and the overall overpotential decrease as the cell temperature increases, whereas the opposite trends are observed when the current density increases. From the energy and exergy analyses, the total energy demand slightly increases with cell temperature, whereas the electrical energy demand decreases. Based on an operating temperature of 1273 K when the SOEC uses oxygen as the sweep gas, the highest energy and exergetic efficiencies of 78.45% and 92.20% are achieved at a current density of 2500 A m−2 and at a steam concentration of 90% in a 500-cell stack.                                                                                                                                                                                                                                                                                                                                                                                                                                                                                                                |2018-01-01      |Elsevier Ltd        |Electrical energy demand  |Thailand           |Ladkrabang Bangkok|King Mongkut's Institute of Technology Ladkrabang|\n",
      "|SCOPUS_ID:85031924352|Flowsheet-based model and exergy analysis of solid oxide electrolysis cells for clean hydrogen production                                                          |A solid oxide electrolysis cell (SOEC) is an electrochemical technology used for hydrogen production via a steam electrolysis reaction. Because the existing SOEC models are complicated, the aim of this study is to develop a user-friendly SOEC model in a flowsheet simulator (Aspen Plus). The developed model is used to perform a parametric analysis to investigate the effects of key process parameters, i.e., operating temperature, current density, steam concentration, sweep gas type and number of cells, on the SOEC performance. The simulation results show that the voltage and the overall overpotential decrease as the cell temperature increases, whereas the opposite trends are observed when the current density increases. From the energy and exergy analyses, the total energy demand slightly increases with cell temperature, whereas the electrical energy demand decreases. Based on an operating temperature of 1273 K when the SOEC uses oxygen as the sweep gas, the highest energy and exergetic efficiencies of 78.45% and 92.20% are achieved at a current density of 2500 A m−2 and at a steam concentration of 90% in a 500-cell stack.                                                                                                                                                                                                                                                                                                                                                                                                                                                                                                                |2018-01-01      |Elsevier Ltd        |Electrical energy demand  |Thailand           |Chonburi          |Burapha University                               |\n",
      "|SCOPUS_ID:85035152319|Synthesis of mesoporous tin dioxide via sol-gel process assisted by resorcinol–formaldehyde gel                                                                    |Tin dioxide is a useful n-type oxide semiconductor used in a variety of applications owing to its superior optical, electrical, and multifunctional properties. Here, we used a network of resorcinol–formaldehyde (RF) gel to synthesize mesoporous tin dioxide via a sol–gel process. The effects of various synthesis parameters on the morphology and mesoporosity of the obtained product were investigated, including aging time of the RF gel, tin-to-formaldehyde molar ratio, resorcinol-to-carbonate molar ratio, and the aging time of the tin/RF mixed gel. Our experimental results showed that the interaction between the network of the RF gel and tin-containing sol is a key factor that affected the structural strength of the porous network and the porosity of the final product. Through control of the interactions in the tin/RF mixed gel we obtained porous tin dioxide materials that could be effectively used to form large-surface area films with desirable mesoporous properties.                                                                                                                                                                                                                                                                                                                                                                                                                                                                                                                                                                                                                                                                              |2018-04-01      |Elsevier B.V.       |Control of the interaction|Thailand           |Bangkok           |Chulalongkorn University                         |\n",
      "|SCOPUS_ID:85035152319|Synthesis of mesoporous tin dioxide via sol-gel process assisted by resorcinol–formaldehyde gel                                                                    |Tin dioxide is a useful n-type oxide semiconductor used in a variety of applications owing to its superior optical, electrical, and multifunctional properties. Here, we used a network of resorcinol–formaldehyde (RF) gel to synthesize mesoporous tin dioxide via a sol–gel process. The effects of various synthesis parameters on the morphology and mesoporosity of the obtained product were investigated, including aging time of the RF gel, tin-to-formaldehyde molar ratio, resorcinol-to-carbonate molar ratio, and the aging time of the tin/RF mixed gel. Our experimental results showed that the interaction between the network of the RF gel and tin-containing sol is a key factor that affected the structural strength of the porous network and the porosity of the final product. Through control of the interactions in the tin/RF mixed gel we obtained porous tin dioxide materials that could be effectively used to form large-surface area films with desirable mesoporous properties.                                                                                                                                                                                                                                                                                                                                                                                                                                                                                                                                                                                                                                                                              |2018-04-01      |Elsevier B.V.       |Large surface area        |Thailand           |Bangkok           |Chulalongkorn University                         |\n",
      "|SCOPUS_ID:85035152319|Synthesis of mesoporous tin dioxide via sol-gel process assisted by resorcinol–formaldehyde gel                                                                    |Tin dioxide is a useful n-type oxide semiconductor used in a variety of applications owing to its superior optical, electrical, and multifunctional properties. Here, we used a network of resorcinol–formaldehyde (RF) gel to synthesize mesoporous tin dioxide via a sol–gel process. The effects of various synthesis parameters on the morphology and mesoporosity of the obtained product were investigated, including aging time of the RF gel, tin-to-formaldehyde molar ratio, resorcinol-to-carbonate molar ratio, and the aging time of the tin/RF mixed gel. Our experimental results showed that the interaction between the network of the RF gel and tin-containing sol is a key factor that affected the structural strength of the porous network and the porosity of the final product. Through control of the interactions in the tin/RF mixed gel we obtained porous tin dioxide materials that could be effectively used to form large-surface area films with desirable mesoporous properties.                                                                                                                                                                                                                                                                                                                                                                                                                                                                                                                                                                                                                                                                              |2018-04-01      |Elsevier B.V.       |Mesoporous                |Thailand           |Bangkok           |Chulalongkorn University                         |\n",
      "|SCOPUS_ID:85035152319|Synthesis of mesoporous tin dioxide via sol-gel process assisted by resorcinol–formaldehyde gel                                                                    |Tin dioxide is a useful n-type oxide semiconductor used in a variety of applications owing to its superior optical, electrical, and multifunctional properties. Here, we used a network of resorcinol–formaldehyde (RF) gel to synthesize mesoporous tin dioxide via a sol–gel process. The effects of various synthesis parameters on the morphology and mesoporosity of the obtained product were investigated, including aging time of the RF gel, tin-to-formaldehyde molar ratio, resorcinol-to-carbonate molar ratio, and the aging time of the tin/RF mixed gel. Our experimental results showed that the interaction between the network of the RF gel and tin-containing sol is a key factor that affected the structural strength of the porous network and the porosity of the final product. Through control of the interactions in the tin/RF mixed gel we obtained porous tin dioxide materials that could be effectively used to form large-surface area films with desirable mesoporous properties.                                                                                                                                                                                                                                                                                                                                                                                                                                                                                                                                                                                                                                                                              |2018-04-01      |Elsevier B.V.       |Multifunctional properties|Thailand           |Bangkok           |Chulalongkorn University                         |\n",
      "+---------------------+-------------------------------------------------------------------------------------------------------------------------------------------------------------------+-------------------------------------------------------------------------------------------------------------------------------------------------------------------------------------------------------------------------------------------------------------------------------------------------------------------------------------------------------------------------------------------------------------------------------------------------------------------------------------------------------------------------------------------------------------------------------------------------------------------------------------------------------------------------------------------------------------------------------------------------------------------------------------------------------------------------------------------------------------------------------------------------------------------------------------------------------------------------------------------------------------------------------------------------------------------------------------------------------------------------------------------------------------------------------------------------------------------------------------------------------------------------------------------------------------------------------------------------------------------------------------------------------------------------------------------------------------------------------------------------------------------------------------------------------------------------------------------------------------------------------------------------------------------------------------------------+----------------+--------------------+--------------------------+-------------------+------------------+-------------------------------------------------+\n",
      "only showing top 10 rows\n",
      "\n"
     ]
    },
    {
     "name": "stderr",
     "output_type": "stream",
     "text": [
      "                                                                                \r"
     ]
    }
   ],
   "execution_count": 36
  },
  {
   "metadata": {},
   "cell_type": "markdown",
   "source": "### Data Export",
   "id": "e46b493dbc4c747c"
  },
  {
   "metadata": {
    "ExecuteTime": {
     "end_time": "2024-11-13T19:45:41.315288Z",
     "start_time": "2024-11-13T19:44:56.428929Z"
    }
   },
   "cell_type": "code",
   "source": [
    "output_path = \"documents_output_explode\"\n",
    "\n",
    "# Write the final DataFrame to a CSV file\n",
    "final_df.coalesce(1).write.csv(output_path, header=True, mode=\"overwrite\")\n"
   ],
   "id": "c1e953b6f80fa459",
   "outputs": [
    {
     "name": "stderr",
     "output_type": "stream",
     "text": [
      "                                                                                \r"
     ]
    }
   ],
   "execution_count": 37
  }
 ],
 "metadata": {
  "kernelspec": {
   "display_name": "Python 3",
   "language": "python",
   "name": "python3"
  },
  "language_info": {
   "codemirror_mode": {
    "name": "ipython",
    "version": 2
   },
   "file_extension": ".py",
   "mimetype": "text/x-python",
   "name": "python",
   "nbconvert_exporter": "python",
   "pygments_lexer": "ipython2",
   "version": "2.7.6"
  }
 },
 "nbformat": 4,
 "nbformat_minor": 5
}
