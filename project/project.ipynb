{
 "cells": [
  {
   "cell_type": "code",
   "execution_count": 2,
   "id": "34fced1bfed5f324",
   "metadata": {},
   "outputs": [],
   "source": [
    "import os\n",
    "from pyspark.sql import SparkSession\n",
    "from pyspark.sql.types import StructType, StructField, StringType, ArrayType\n",
    "from pyspark.sql.functions import col, array, explode_outer, from_json, when, collect_set, array_join"
   ]
  },
  {
   "cell_type": "markdown",
   "id": "f78ac2e58d1479dd",
   "metadata": {},
   "source": [
    "### Initialize Spark Session"
   ]
  },
  {
   "cell_type": "code",
   "execution_count": 3,
   "id": "bd41d1170e108c99",
   "metadata": {},
   "outputs": [
    {
     "name": "stderr",
     "output_type": "stream",
     "text": [
      "The operation couldn’t be completed. Unable to locate a Java Runtime.\n",
      "Please visit http://www.java.com for information on installing Java.\n",
      "\n",
      "/Users/topfee/pyds/env/lib/python3.12/site-packages/pyspark/bin/spark-class: line 97: CMD: bad array subscript\n",
      "head: illegal line count -- -1\n"
     ]
    },
    {
     "ename": "PySparkRuntimeError",
     "evalue": "[JAVA_GATEWAY_EXITED] Java gateway process exited before sending its port number.",
     "output_type": "error",
     "traceback": [
      "\u001b[0;31m---------------------------------------------------------------------------\u001b[0m",
      "\u001b[0;31mPySparkRuntimeError\u001b[0m                       Traceback (most recent call last)",
      "Cell \u001b[0;32mIn[3], line 2\u001b[0m\n\u001b[1;32m      1\u001b[0m \u001b[38;5;66;03m# Initialize Spark session\u001b[39;00m\n\u001b[0;32m----> 2\u001b[0m spark \u001b[38;5;241m=\u001b[39m \u001b[43mSparkSession\u001b[49m\u001b[38;5;241;43m.\u001b[39;49m\u001b[43mbuilder\u001b[49m\u001b[38;5;241;43m.\u001b[39;49m\u001b[43mappName\u001b[49m\u001b[43m(\u001b[49m\u001b[38;5;124;43m\"\u001b[39;49m\u001b[38;5;124;43mBigDataAnalyticsPipeline\u001b[39;49m\u001b[38;5;124;43m\"\u001b[39;49m\u001b[43m)\u001b[49m\u001b[38;5;241;43m.\u001b[39;49m\u001b[43mgetOrCreate\u001b[49m\u001b[43m(\u001b[49m\u001b[43m)\u001b[49m\n",
      "File \u001b[0;32m~/pyds/env/lib/python3.12/site-packages/pyspark/sql/session.py:497\u001b[0m, in \u001b[0;36mSparkSession.Builder.getOrCreate\u001b[0;34m(self)\u001b[0m\n\u001b[1;32m    495\u001b[0m     sparkConf\u001b[38;5;241m.\u001b[39mset(key, value)\n\u001b[1;32m    496\u001b[0m \u001b[38;5;66;03m# This SparkContext may be an existing one.\u001b[39;00m\n\u001b[0;32m--> 497\u001b[0m sc \u001b[38;5;241m=\u001b[39m \u001b[43mSparkContext\u001b[49m\u001b[38;5;241;43m.\u001b[39;49m\u001b[43mgetOrCreate\u001b[49m\u001b[43m(\u001b[49m\u001b[43msparkConf\u001b[49m\u001b[43m)\u001b[49m\n\u001b[1;32m    498\u001b[0m \u001b[38;5;66;03m# Do not update `SparkConf` for existing `SparkContext`, as it's shared\u001b[39;00m\n\u001b[1;32m    499\u001b[0m \u001b[38;5;66;03m# by all sessions.\u001b[39;00m\n\u001b[1;32m    500\u001b[0m session \u001b[38;5;241m=\u001b[39m SparkSession(sc, options\u001b[38;5;241m=\u001b[39m\u001b[38;5;28mself\u001b[39m\u001b[38;5;241m.\u001b[39m_options)\n",
      "File \u001b[0;32m~/pyds/env/lib/python3.12/site-packages/pyspark/context.py:515\u001b[0m, in \u001b[0;36mSparkContext.getOrCreate\u001b[0;34m(cls, conf)\u001b[0m\n\u001b[1;32m    513\u001b[0m \u001b[38;5;28;01mwith\u001b[39;00m SparkContext\u001b[38;5;241m.\u001b[39m_lock:\n\u001b[1;32m    514\u001b[0m     \u001b[38;5;28;01mif\u001b[39;00m SparkContext\u001b[38;5;241m.\u001b[39m_active_spark_context \u001b[38;5;129;01mis\u001b[39;00m \u001b[38;5;28;01mNone\u001b[39;00m:\n\u001b[0;32m--> 515\u001b[0m         \u001b[43mSparkContext\u001b[49m\u001b[43m(\u001b[49m\u001b[43mconf\u001b[49m\u001b[38;5;241;43m=\u001b[39;49m\u001b[43mconf\u001b[49m\u001b[43m \u001b[49m\u001b[38;5;129;43;01mor\u001b[39;49;00m\u001b[43m \u001b[49m\u001b[43mSparkConf\u001b[49m\u001b[43m(\u001b[49m\u001b[43m)\u001b[49m\u001b[43m)\u001b[49m\n\u001b[1;32m    516\u001b[0m     \u001b[38;5;28;01massert\u001b[39;00m SparkContext\u001b[38;5;241m.\u001b[39m_active_spark_context \u001b[38;5;129;01mis\u001b[39;00m \u001b[38;5;129;01mnot\u001b[39;00m \u001b[38;5;28;01mNone\u001b[39;00m\n\u001b[1;32m    517\u001b[0m     \u001b[38;5;28;01mreturn\u001b[39;00m SparkContext\u001b[38;5;241m.\u001b[39m_active_spark_context\n",
      "File \u001b[0;32m~/pyds/env/lib/python3.12/site-packages/pyspark/context.py:201\u001b[0m, in \u001b[0;36mSparkContext.__init__\u001b[0;34m(self, master, appName, sparkHome, pyFiles, environment, batchSize, serializer, conf, gateway, jsc, profiler_cls, udf_profiler_cls, memory_profiler_cls)\u001b[0m\n\u001b[1;32m    195\u001b[0m \u001b[38;5;28;01mif\u001b[39;00m gateway \u001b[38;5;129;01mis\u001b[39;00m \u001b[38;5;129;01mnot\u001b[39;00m \u001b[38;5;28;01mNone\u001b[39;00m \u001b[38;5;129;01mand\u001b[39;00m gateway\u001b[38;5;241m.\u001b[39mgateway_parameters\u001b[38;5;241m.\u001b[39mauth_token \u001b[38;5;129;01mis\u001b[39;00m \u001b[38;5;28;01mNone\u001b[39;00m:\n\u001b[1;32m    196\u001b[0m     \u001b[38;5;28;01mraise\u001b[39;00m \u001b[38;5;167;01mValueError\u001b[39;00m(\n\u001b[1;32m    197\u001b[0m         \u001b[38;5;124m\"\u001b[39m\u001b[38;5;124mYou are trying to pass an insecure Py4j gateway to Spark. This\u001b[39m\u001b[38;5;124m\"\u001b[39m\n\u001b[1;32m    198\u001b[0m         \u001b[38;5;124m\"\u001b[39m\u001b[38;5;124m is not allowed as it is a security risk.\u001b[39m\u001b[38;5;124m\"\u001b[39m\n\u001b[1;32m    199\u001b[0m     )\n\u001b[0;32m--> 201\u001b[0m \u001b[43mSparkContext\u001b[49m\u001b[38;5;241;43m.\u001b[39;49m\u001b[43m_ensure_initialized\u001b[49m\u001b[43m(\u001b[49m\u001b[38;5;28;43mself\u001b[39;49m\u001b[43m,\u001b[49m\u001b[43m \u001b[49m\u001b[43mgateway\u001b[49m\u001b[38;5;241;43m=\u001b[39;49m\u001b[43mgateway\u001b[49m\u001b[43m,\u001b[49m\u001b[43m \u001b[49m\u001b[43mconf\u001b[49m\u001b[38;5;241;43m=\u001b[39;49m\u001b[43mconf\u001b[49m\u001b[43m)\u001b[49m\n\u001b[1;32m    202\u001b[0m \u001b[38;5;28;01mtry\u001b[39;00m:\n\u001b[1;32m    203\u001b[0m     \u001b[38;5;28mself\u001b[39m\u001b[38;5;241m.\u001b[39m_do_init(\n\u001b[1;32m    204\u001b[0m         master,\n\u001b[1;32m    205\u001b[0m         appName,\n\u001b[0;32m   (...)\u001b[0m\n\u001b[1;32m    215\u001b[0m         memory_profiler_cls,\n\u001b[1;32m    216\u001b[0m     )\n",
      "File \u001b[0;32m~/pyds/env/lib/python3.12/site-packages/pyspark/context.py:436\u001b[0m, in \u001b[0;36mSparkContext._ensure_initialized\u001b[0;34m(cls, instance, gateway, conf)\u001b[0m\n\u001b[1;32m    434\u001b[0m \u001b[38;5;28;01mwith\u001b[39;00m SparkContext\u001b[38;5;241m.\u001b[39m_lock:\n\u001b[1;32m    435\u001b[0m     \u001b[38;5;28;01mif\u001b[39;00m \u001b[38;5;129;01mnot\u001b[39;00m SparkContext\u001b[38;5;241m.\u001b[39m_gateway:\n\u001b[0;32m--> 436\u001b[0m         SparkContext\u001b[38;5;241m.\u001b[39m_gateway \u001b[38;5;241m=\u001b[39m gateway \u001b[38;5;129;01mor\u001b[39;00m \u001b[43mlaunch_gateway\u001b[49m\u001b[43m(\u001b[49m\u001b[43mconf\u001b[49m\u001b[43m)\u001b[49m\n\u001b[1;32m    437\u001b[0m         SparkContext\u001b[38;5;241m.\u001b[39m_jvm \u001b[38;5;241m=\u001b[39m SparkContext\u001b[38;5;241m.\u001b[39m_gateway\u001b[38;5;241m.\u001b[39mjvm\n\u001b[1;32m    439\u001b[0m     \u001b[38;5;28;01mif\u001b[39;00m instance:\n",
      "File \u001b[0;32m~/pyds/env/lib/python3.12/site-packages/pyspark/java_gateway.py:107\u001b[0m, in \u001b[0;36mlaunch_gateway\u001b[0;34m(conf, popen_kwargs)\u001b[0m\n\u001b[1;32m    104\u001b[0m     time\u001b[38;5;241m.\u001b[39msleep(\u001b[38;5;241m0.1\u001b[39m)\n\u001b[1;32m    106\u001b[0m \u001b[38;5;28;01mif\u001b[39;00m \u001b[38;5;129;01mnot\u001b[39;00m os\u001b[38;5;241m.\u001b[39mpath\u001b[38;5;241m.\u001b[39misfile(conn_info_file):\n\u001b[0;32m--> 107\u001b[0m     \u001b[38;5;28;01mraise\u001b[39;00m PySparkRuntimeError(\n\u001b[1;32m    108\u001b[0m         error_class\u001b[38;5;241m=\u001b[39m\u001b[38;5;124m\"\u001b[39m\u001b[38;5;124mJAVA_GATEWAY_EXITED\u001b[39m\u001b[38;5;124m\"\u001b[39m,\n\u001b[1;32m    109\u001b[0m         message_parameters\u001b[38;5;241m=\u001b[39m{},\n\u001b[1;32m    110\u001b[0m     )\n\u001b[1;32m    112\u001b[0m \u001b[38;5;28;01mwith\u001b[39;00m \u001b[38;5;28mopen\u001b[39m(conn_info_file, \u001b[38;5;124m\"\u001b[39m\u001b[38;5;124mrb\u001b[39m\u001b[38;5;124m\"\u001b[39m) \u001b[38;5;28;01mas\u001b[39;00m info:\n\u001b[1;32m    113\u001b[0m     gateway_port \u001b[38;5;241m=\u001b[39m read_int(info)\n",
      "\u001b[0;31mPySparkRuntimeError\u001b[0m: [JAVA_GATEWAY_EXITED] Java gateway process exited before sending its port number."
     ]
    }
   ],
   "source": [
    "# Initialize Spark session\n",
    "spark = SparkSession.builder.appName(\"BigDataAnalyticsPipeline\").getOrCreate()"
   ]
  },
  {
   "cell_type": "markdown",
   "id": "8334e78fcf4913b3",
   "metadata": {},
   "source": [
    "## Large Data Ingestion"
   ]
  },
  {
   "cell_type": "code",
   "execution_count": null,
   "id": "initial_id",
   "metadata": {},
   "outputs": [],
   "source": [
    "# Define the base directory for the project\n",
    "base_dir = \"./data\"\n",
    "\n",
    "# Gather paths to all text files that are actually JSON\n",
    "file_paths = []\n",
    "for root, dirs, files in os.walk(base_dir):\n",
    "\n",
    "    for file in files:\n",
    "        # Add only text files (assuming they don’t have a .json extension)\n",
    "        if not file.endswith('.json'):\n",
    "            file_paths.append(os.path.join(root, file))\n",
    "\n",
    "# Load all JSON text files into a single Spark DataFrame\n",
    "# Using the option `multiLine=True` if each file contains multiple JSON objects across lines\n",
    "df = spark.read.option(\"multiLine\", True).json(path=file_paths)\n",
    "\n",
    "# Display schema and sample records to verify\n",
    "df.printSchema()\n",
    "df.show(5, truncate=True)"
   ]
  },
  {
   "cell_type": "markdown",
   "id": "b0c7e6ab538095be",
   "metadata": {},
   "source": [
    "## Data Transformation"
   ]
  },
  {
   "cell_type": "markdown",
   "id": "a2761688f228c04d",
   "metadata": {},
   "source": [
    "#### Extracting and Flattening Nested Affiliation Fields "
   ]
  },
  {
   "cell_type": "code",
   "execution_count": null,
   "id": "c1de288dc5abb2cf",
   "metadata": {},
   "outputs": [],
   "source": [
    "# Define the affiliation schema\n",
    "affiliation_schema = StructType([\n",
    "    StructField(\"affiliation-city\", StringType(), True),\n",
    "    StructField(\"affilname\", StringType(), True),\n",
    "    StructField(\"affiliation-country\", StringType(), True),\n",
    "])\n",
    "\n",
    "affiliation_array_schema = ArrayType(affiliation_schema)\n",
    "\n",
    "# Extract title, abstract, publication date, and affiliation\n",
    "df = df.withColumn(\n",
    "    \"affiliation_string\",\n",
    "    col(\"abstracts-retrieval-response.affiliation\").cast(\"string\")\n",
    ")\n",
    "\n",
    "df = df.withColumn(\n",
    "    \"affiliation_parsed_array\",\n",
    "    from_json(col(\"affiliation_string\"), affiliation_array_schema)\n",
    ").withColumn(\n",
    "    \"affiliation_parsed_single\",\n",
    "    from_json(col(\"affiliation_string\"), affiliation_schema)\n",
    ")\n",
    "\n",
    "df = df.withColumn(\n",
    "    \"affiliation_array\",\n",
    "    when(col(\"affiliation_parsed_array\").isNotNull(), col(\"affiliation_parsed_array\"))\n",
    "    .when(col(\"affiliation_parsed_single\").isNotNull(), array(col(\"affiliation_parsed_single\")))\n",
    "    .otherwise(array())\n",
    ").drop(\"affiliation_string\", \"affiliation_parsed_array\", \"affiliation_parsed_single\")"
   ]
  },
  {
   "cell_type": "markdown",
   "id": "66dccca3ad8ac71b",
   "metadata": {},
   "source": [
    "#### Extracting and Flattening Nested Mainterm Fields"
   ]
  },
  {
   "cell_type": "code",
   "execution_count": null,
   "id": "85b4105e9db9d643",
   "metadata": {},
   "outputs": [],
   "source": [
    "mainterm_schema = StructType([\n",
    "    StructField(\"$\", StringType(), True),\n",
    "])\n",
    "\n",
    "mainterm_array_schema = ArrayType(mainterm_schema)\n",
    "\n",
    "df = df.withColumn(\n",
    "    \"mainterm_string\",\n",
    "    col(\"abstracts-retrieval-response.idxterms.mainterm\").cast(\"string\")\n",
    ")\n",
    "\n",
    "df = df.withColumn(\n",
    "    \"mainterm_parsed_array\",\n",
    "    from_json(col(\"mainterm_string\"), mainterm_array_schema)\n",
    ").withColumn(\n",
    "    \"mainterm_parsed_single\",\n",
    "    from_json(col(\"mainterm_string\"), mainterm_schema)\n",
    ")\n",
    "\n",
    "df = df.withColumn(\n",
    "    \"mainterm_array\",\n",
    "    when(col(\"mainterm_parsed_array\").isNotNull(), col(\"mainterm_parsed_array\"))\n",
    "    .when(col(\"mainterm_parsed_single\").isNotNull(), array(col(\"mainterm_parsed_single\")))\n",
    "    .otherwise(array())\n",
    ").drop(\"mainterm_string\", \"mainterm_parsed_array\", \"mainterm_parsed_single\")"
   ]
  },
  {
   "cell_type": "markdown",
   "id": "860088941b7fe951",
   "metadata": {},
   "source": [
    "### Combining and Aggregating Data"
   ]
  },
  {
   "cell_type": "code",
   "execution_count": null,
   "id": "96a35aa717aa883b",
   "metadata": {
    "ExecuteTime": {
     "end_time": "2024-11-13T19:43:45.299389Z",
     "start_time": "2024-11-13T19:43:13.760203Z"
    }
   },
   "outputs": [],
   "source": [
    "# name variable to avoid confusion\n",
    "# explode_df  = df.select(\n",
    "#     col(\"abstracts-retrieval-response.coredata.dc:identifier\").alias(\"document_id\"),\n",
    "#     explode_outer(\"affiliation_array\").alias(\"affiliation\"),\n",
    "#     explode_outer(\"mainterm_array\").alias(\"mainterm\")\n",
    "# ).select(\n",
    "#     \"document_id\",\n",
    "#     col(\"affiliation.affiliation-country\").alias(\"affiliation_country\"),\n",
    "#     col(\"affiliation.affiliation-city\").alias(\"affiliation_city\"),\n",
    "#     col(\"affiliation.affilname\").alias(\"affiliation_name\"),\n",
    "#     col(\"mainterm.$\").alias(\"keyword\")\n",
    "# )\n",
    "# \n",
    "# # Aggregate countries and cities per document_id\n",
    "# join_df = explode_df.groupBy(\"document_id\").agg(\n",
    "#     array_join(collect_set(\"affiliation_country\"), \";\").alias(\"affiliation_countries\"),\n",
    "#     array_join(collect_set(\"affiliation_city\"), \";\").alias(\"affiliation_cities\"),\n",
    "#     array_join(collect_set(\"affiliation_name\"), \";\").alias(\"affiliation_names\"),\n",
    "#     array_join(collect_set(\"keyword\"), \";\").alias(\"keywords\")\n",
    "# )\n",
    "# \n",
    "# selected_df = df.select(\n",
    "#     col(\"abstracts-retrieval-response.coredata.dc:identifier\").alias(\"document_id\"),\n",
    "#     col(\"abstracts-retrieval-response.coredata.dc:title\").alias(\"title\"),\n",
    "#     col(\"abstracts-retrieval-response.coredata.dc:description\").alias(\"description\"),\n",
    "#     col(\"abstracts-retrieval-response.coredata.prism:coverDate\").alias(\"publication_date\"),\n",
    "#     col(\"abstracts-retrieval-response.coredata.dc:publisher\").alias(\"publisher\"),\n",
    "# )\n",
    "# \n",
    "# final_df = join_df.join(\n",
    "#     selected_df,\n",
    "#     on=\"document_id\",\n",
    "#     how=\"left\"\n",
    "# )\n",
    "\n",
    "mainterm_df = df.withColumn(\"mainterm\", explode_outer(\"mainterm_array\")).select(\n",
    "    col(\"abstracts-retrieval-response.coredata.dc:identifier\").alias(\"document_id\"),\n",
    "    col(\"mainterm.$\").alias(\"keyword\"),\n",
    ")\n",
    "\n",
    "affiliation_df = df.withColumn(\"affiliation\", explode_outer(\"affiliation_array\")).select(\n",
    "    col(\"abstracts-retrieval-response.coredata.dc:identifier\").alias(\"document_id\"),\n",
    "    col(\"affiliation.affiliation-country\").alias(\"affiliation_country\"),\n",
    "    col(\"affiliation.affiliation-city\").alias(\"affiliation_city\"),\n",
    "    col(\"affiliation.affilname\").alias(\"affiliation_name\"),\n",
    ")\n",
    "\n",
    "exploded_df = mainterm_df.join(\n",
    "    affiliation_df,\n",
    "    on=\"document_id\",\n",
    "    how=\"left\"\n",
    ")\n",
    "\n",
    "final_df = exploded_df.join(\n",
    "    df.select(\n",
    "        col(\"abstracts-retrieval-response.coredata.dc:identifier\").alias(\"document_id\"),\n",
    "        col(\"abstracts-retrieval-response.coredata.dc:title\").alias(\"title\"),\n",
    "        col(\"abstracts-retrieval-response.coredata.dc:description\").alias(\"description\"),\n",
    "        col(\"abstracts-retrieval-response.coredata.prism:coverDate\").alias(\"publication_date\"),\n",
    "        col(\"abstracts-retrieval-response.coredata.dc:publisher\").alias(\"publisher\")\n",
    "    ),\n",
    "    on=\"document_id\",\n",
    "    how=\"left\"\n",
    ")\n",
    "\n",
    "final_df = final_df.select(\n",
    "    \"document_id\",\n",
    "    \"title\",\n",
    "    \"description\",\n",
    "    \"publication_date\",\n",
    "    \"publisher\",\n",
    "    \"keyword\",\n",
    "    \"affiliation_country\",\n",
    "    \"affiliation_city\",\n",
    "    \"affiliation_name\",\n",
    ")\n",
    "# Show the result\n",
    "final_df.show(10, truncate=False)"
   ]
  },
  {
   "cell_type": "markdown",
   "id": "e46b493dbc4c747c",
   "metadata": {},
   "source": [
    "### Data Export"
   ]
  },
  {
   "cell_type": "code",
   "execution_count": null,
   "id": "c1e953b6f80fa459",
   "metadata": {
    "ExecuteTime": {
     "end_time": "2024-11-13T19:45:41.315288Z",
     "start_time": "2024-11-13T19:44:56.428929Z"
    }
   },
   "outputs": [],
   "source": [
    "output_path = \"documents_output_explode\"\n",
    "\n",
    "# Write the final DataFrame to a CSV file\n",
    "final_df.coalesce(1).write.csv(output_path, header=True, mode=\"overwrite\")\n"
   ]
  }
 ],
 "metadata": {
  "kernelspec": {
   "display_name": "Python 3 (ipykernel)",
   "language": "python",
   "name": "python3"
  },
  "language_info": {
   "codemirror_mode": {
    "name": "ipython",
    "version": 3
   },
   "file_extension": ".py",
   "mimetype": "text/x-python",
   "name": "python",
   "nbconvert_exporter": "python",
   "pygments_lexer": "ipython3",
   "version": "3.12.7"
  }
 },
 "nbformat": 4,
 "nbformat_minor": 5
}
